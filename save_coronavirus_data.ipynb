{
 "cells": [
  {
   "cell_type": "code",
   "execution_count": 1,
   "metadata": {},
   "outputs": [],
   "source": [
    "import os\n",
    "import urllib3\n",
    "from bs4 import BeautifulSoup\n",
    "import numpy as np\n",
    "import pandas as pd\n",
    "import datetime"
   ]
  },
  {
   "cell_type": "code",
   "execution_count": 6,
   "metadata": {},
   "outputs": [],
   "source": [
    "def get_url_content(url_to_parse):\n",
    "    url_handle = urllib3.PoolManager()\n",
    "    url_content = url_handle.urlopen('GET', url_to_parse)\n",
    "    \n",
    "    return url_content\n",
    "\n",
    "def get_table_html_data(html_data):\n",
    "    soup = BeautifulSoup(html_data, 'html.parser')\n",
    "    table = soup.find('table')\n",
    "    all_html_rows = table.find_all('tr')\n",
    "    \n",
    "    return all_html_rows\n",
    "\n",
    "def parse_number(num_string, num_type='int'):\n",
    "    if num_string == '':\n",
    "        return 0\n",
    "    \n",
    "    if num_type == 'int':\n",
    "        num = int(num_string.replace(',', ''))\n",
    "    else:\n",
    "        num = float(num_string.replace(',', ''))\n",
    "    \n",
    "    return num\n",
    "\n",
    "def main():\n",
    "    url_to_parse = 'https://www.worldometers.info/coronavirus/'\n",
    "    url_content = get_url_content(url_to_parse)\n",
    "    \n",
    "    if url_content.status != 200:\n",
    "        print('Content retrieval failed')\n",
    "    else:\n",
    "        html_data = url_content.data\n",
    "        all_html_rows = get_table_html_data(html_data)\n",
    "        \n",
    "        column_names = ['region', 'total_cases', 'new_cases', 'total_deaths', 'new_deaths', 'total_recovered', 'active_cases', 'serious_cases', 'total_cases_per_million']\n",
    "\n",
    "        all_data = []\n",
    "        \n",
    "        for i in range(1, len(all_html_rows)):\n",
    "            columns = all_html_rows[i].find_all('td')\n",
    "            temp_row = []\n",
    "        \n",
    "            for j in range(len(columns)):\n",
    "                value = columns[j].get_text().strip()\n",
    "                \n",
    "                if j == 0:\n",
    "                    value_required = value.replace(':', '').replace('.', '').replace(' ', '_')\n",
    "                elif j == len(columns) - 1:\n",
    "                    value_required = parse_number(value, num_type='float')\n",
    "                else:\n",
    "                    value_required = parse_number(value)\n",
    "                    \n",
    "                temp_row.append(value_required)\n",
    "            \n",
    "            all_data.append(temp_row)\n",
    "        \n",
    "        df = pd.DataFrame(data=all_data, columns=column_names)\n",
    "        df['mortality_rate'] = np.round(100 * df.total_deaths.values / df.total_cases.values, 2)\n",
    "        \n",
    "        \n",
    "        data_dir = str(datetime.datetime.now()).replace(' ', '_')[:-7].replace(':', '-')\n",
    "        if not os.path.exists(data_dir):\n",
    "            os.makedirs(data_dir)\n",
    "            \n",
    "        df.to_csv(os.path.join(data_dir, 'data.csv'), index=False)"
   ]
  },
  {
   "cell_type": "code",
   "execution_count": 7,
   "metadata": {},
   "outputs": [],
   "source": [
    "main()"
   ]
  },
  {
   "cell_type": "code",
   "execution_count": null,
   "metadata": {},
   "outputs": [],
   "source": []
  }
 ],
 "metadata": {
  "kernelspec": {
   "display_name": "Python 3",
   "language": "python",
   "name": "python3"
  },
  "language_info": {
   "codemirror_mode": {
    "name": "ipython",
    "version": 3
   },
   "file_extension": ".py",
   "mimetype": "text/x-python",
   "name": "python",
   "nbconvert_exporter": "python",
   "pygments_lexer": "ipython3",
   "version": "3.5.2"
  }
 },
 "nbformat": 4,
 "nbformat_minor": 2
}
